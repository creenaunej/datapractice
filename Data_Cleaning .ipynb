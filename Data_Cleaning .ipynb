{
 "cells": [
  {
   "cell_type": "code",
   "execution_count": 1,
   "metadata": {},
   "outputs": [],
   "source": [
    "# # In this self created data cleaning exercise there is the following \n",
    "#     Import data frame \n",
    "#     Assign numeric integers to labels in a column \n",
    "#     Replace a string with an number \n",
    "#     convert a column of strings to integers \n",
    "#     Find the min or the max of a column \n",
    "\n",
    "import pandas as pd\n",
    "%matplotlib notebook\n",
    "import matplotlib.pyplot as plt\n",
    "import numpy as np\n"
   ]
  },
  {
   "cell_type": "code",
   "execution_count": 2,
   "metadata": {},
   "outputs": [],
   "source": [
    "StopAndFrisk = pd.read_csv(\"/Users/jordancreenaune/Desktop/Python_for_Data_Science/Jordan_Projects/StopAndFrisk/2018_sqf_database.csv\")"
   ]
  },
  {
   "cell_type": "code",
   "execution_count": 3,
   "metadata": {},
   "outputs": [],
   "source": [
    "# These statements assign values to the different races from the data using loc\n",
    "# Loc statements - make sure to use the column names and descriptors when selecting\n",
    "\n",
    "StopAndFrisk.loc[StopAndFrisk[\"SUSPECT_RACE_DESCRIPTION\"]==\"WHITE\",\"SUSPECT_RACE_DESCRIPTION\"] = 0\n",
    "StopAndFrisk.loc[StopAndFrisk[\"SUSPECT_RACE_DESCRIPTION\"]==\"WHITE HISPANIC\",\"SUSPECT_RACE_DESCRIPTION\"] = 1\n",
    "StopAndFrisk.loc[StopAndFrisk[\"SUSPECT_RACE_DESCRIPTION\"]==\"BLACK\",\"SUSPECT_RACE_DESCRIPTION\"] = 2\n",
    "StopAndFrisk.loc[StopAndFrisk[\"SUSPECT_RACE_DESCRIPTION\"]==\"BLACK HISPANIC\",\"SUSPECT_RACE_DESCRIPTION\"] = 3\n",
    "StopAndFrisk.loc[StopAndFrisk[\"SUSPECT_RACE_DESCRIPTION\"]==\"ASIAN / PACIFIC ISLANDER\",\"SUSPECT_RACE_DESCRIPTION\"] = 4\n",
    "StopAndFrisk.loc[StopAndFrisk[\"SUSPECT_RACE_DESCRIPTION\"]==\"AMERICAN INDIAN/ALASKAN NATIVE\",\"SUSPECT_RACE_DESCRIPTION\"] = 5\n",
    "StopAndFrisk.loc[StopAndFrisk[\"SUSPECT_RACE_DESCRIPTION\"]==\"(null)\",\"SUSPECT_RACE_DESCRIPTION\"] = 6\n"
   ]
  },
  {
   "cell_type": "code",
   "execution_count": 10,
   "metadata": {},
   "outputs": [
    {
     "name": "stderr",
     "output_type": "stream",
     "text": [
      "/anaconda3/lib/python3.7/site-packages/ipykernel_launcher.py:3: SettingWithCopyWarning: \n",
      "A value is trying to be set on a copy of a slice from a DataFrame\n",
      "\n",
      "See the caveats in the documentation: http://pandas.pydata.org/pandas-docs/stable/indexing.html#indexing-view-versus-copy\n",
      "  This is separate from the ipykernel package so we can avoid doing imports until\n"
     ]
    }
   ],
   "source": [
    "#There are ages that dont need to be in there - delete ages less than 10 \n",
    "#This statement below - removes null and replaces it with the mean of the ages \n",
    "StopAndFrisk.SUSPECT_REPORTED_AGE[StopAndFrisk.SUSPECT_REPORTED_AGE =='(null)'] = 23\n",
    "\n",
    "# This statement - turns suspected reported age from a string to an integer \n",
    "StopAndFrisk['SUSPECT_REPORTED_AGE'] = StopAndFrisk['SUSPECT_REPORTED_AGE'].astype(int)\n",
    "\n",
    "# This creates a variable, for all ages less than 10 in the data set - column SUSPECT_REPORTED_AGE\n",
    "indexNames = StopAndFrisk[ StopAndFrisk['SUSPECT_REPORTED_AGE'] < 10 ].index\n",
    "\n",
    "# Delete these row indexes from dataFrame\n",
    "StopAndFrisk.drop(indexNames , inplace=True)\n",
    "\n",
    "\n"
   ]
  },
  {
   "cell_type": "code",
   "execution_count": 11,
   "metadata": {},
   "outputs": [
    {
     "data": {
      "text/plain": [
       "STOP_FRISK_ID                                                                       470\n",
       "STOP_FRISK_DATE                                                                 1/20/18\n",
       "Stop Frisk Time                                                                18:17:00\n",
       "YEAR2                                                                              2018\n",
       "MONTH2                                                                          January\n",
       "DAY2                                                                           Saturday\n",
       "STOP_WAS_INITIATED                                              Based on Self Initiated\n",
       "RECORD_STATUS_CODE                                                                  APP\n",
       "ISSUING_OFFICER_RANK                                                                POM\n",
       "ISSUING_OFFICER_COMMAND_CODE                                                         33\n",
       "SUPERVISING_OFFICER_RANK                                                            SGT\n",
       "SUPERVISING_OFFICER_COMMAND_CODE                                                     33\n",
       "SUPERVISING_ACTION_CORRESPONDING_ACTIVITY_LOG_ENTRY_REVIEWED                          Y\n",
       "LOCATION_IN_OUT_CODE                                                             (null)\n",
       "JURISDICTION_CODE                                                                (null)\n",
       "JURISDICTION_DESCRIPTION                                                         (null)\n",
       "OBSERVED_DURATION_MINUTES                                                             1\n",
       "SUSPECTED_CRIME_DESCRIPTION                                                    MENACING\n",
       "STOP_DURATION_MINUTES                                                                 5\n",
       "OFFICER_EXPLAINED_STOP_FLAG                                                           Y\n",
       "OFFICER_NOT_EXPLAINED_STOP_DESCRIPTION                                           (null)\n",
       "OTHER_PERSON_STOPPED_FLAG                                                             N\n",
       "SUSPECT_ARRESTED_FLAG                                                                 N\n",
       "SUSPECT_ARREST_OFFENSE                                                           (null)\n",
       "SUMMONS_ISSUED_FLAG                                                                   N\n",
       "SUMMONS_OFFENSE_DESCRIPTION                                                      (null)\n",
       "OFFICER_IN_UNIFORM_FLAG                                                               Y\n",
       "ID_CARD_IDENTIFIES_OFFICER_FLAG                                                  (null)\n",
       "SHIELD_IDENTIFIES_OFFICER_FLAG                                                   (null)\n",
       "VERBAL_IDENTIFIES_OFFICER_FLAG                                                   (null)\n",
       "                                                                         ...           \n",
       "SUSPECTS_ACTIONS_OTHER_FLAG                                                           Y\n",
       "SUSPECTS_ACTIONS_PROXIMITY_TO_SCENE_FLAG                                         (null)\n",
       "SEARCH_BASIS_ADMISSION_FLAG                                                      (null)\n",
       "SEARCH_BASIS_CONSENT_FLAG                                                        (null)\n",
       "SEARCH_BASIS_HARD_OBJECT_FLAG                                                    (null)\n",
       "SEARCH_BASIS_INCIDENTAL_TO_ARREST_FLAG                                           (null)\n",
       "SEARCH_BASIS_OTHER_FLAG                                                          (null)\n",
       "SEARCH_BASIS_OUTLINE_FLAG                                                        (null)\n",
       "DEMEANOR_CODE                                                                        DE\n",
       "DEMEANOR_OF_PERSON_STOPPED                                                UNDERSTANDING\n",
       "SUSPECT_REPORTED_AGE                                                                 87\n",
       "SUSPECT_SEX                                                                        MALE\n",
       "SUSPECT_RACE_DESCRIPTION                                                              3\n",
       "SUSPECT_HEIGHT                                                                      5.1\n",
       "SUSPECT_WEIGHT                                                                      150\n",
       "SUSPECT_BODY_BUILD_TYPE                                                             MED\n",
       "SUSPECT_EYE_COLOR                                                                   BRO\n",
       "SUSPECT_HAIR_COLOR                                                                  GRY\n",
       "SUSPECT_OTHER_DESCRIPTION                                                        (null)\n",
       "STOP_LOCATION_PRECINCT                                                               33\n",
       "STOP_LOCATION_SECTOR_CODE                                                             C\n",
       "STOP_LOCATION_APARTMENT                                                          (null)\n",
       "STOP_LOCATION_FULL_ADDRESS                                          562 WEST 175 STREET\n",
       "STOP_LOCATION_PREMISES_NAME                                                      (null)\n",
       "STOP_LOCATION_STREET_NAME                                               WEST 175 STREET\n",
       "STOP_LOCATION_X                                                                 1002035\n",
       "STOP_LOCATION_Y                                                                  247163\n",
       "STOP_LOCATION_ZIP_CODE                                                           (null)\n",
       "STOP_LOCATION_PATROL_BORO_NAME                                                     PBMN\n",
       "STOP_LOCATION_BORO_NAME                                                       MANHATTAN\n",
       "Name: 469, Length: 83, dtype: object"
      ]
     },
     "execution_count": 11,
     "metadata": {},
     "output_type": "execute_result"
    }
   ],
   "source": [
    "#This statement - prints the row with of the MAX Reported Age \n",
    "StopAndFrisk.loc[StopAndFrisk['SUSPECT_REPORTED_AGE'].idxmax()]"
   ]
  },
  {
   "cell_type": "code",
   "execution_count": 12,
   "metadata": {},
   "outputs": [
    {
     "data": {
      "text/plain": [
       "STOP_FRISK_ID                                                                             759\n",
       "STOP_FRISK_DATE                                                                       1/27/18\n",
       "Stop Frisk Time                                                                      17:08:00\n",
       "YEAR2                                                                                    2018\n",
       "MONTH2                                                                                January\n",
       "DAY2                                                                                 Saturday\n",
       "STOP_WAS_INITIATED                                                         Based on Radio Run\n",
       "RECORD_STATUS_CODE                                                                        APP\n",
       "ISSUING_OFFICER_RANK                                                                      POM\n",
       "ISSUING_OFFICER_COMMAND_CODE                                                               78\n",
       "SUPERVISING_OFFICER_RANK                                                                  SGT\n",
       "SUPERVISING_OFFICER_COMMAND_CODE                                                           78\n",
       "SUPERVISING_ACTION_CORRESPONDING_ACTIVITY_LOG_ENTRY_REVIEWED                                Y\n",
       "LOCATION_IN_OUT_CODE                                                                        O\n",
       "JURISDICTION_CODE                                                                           P\n",
       "JURISDICTION_DESCRIPTION                                                                  PSB\n",
       "OBSERVED_DURATION_MINUTES                                                                   5\n",
       "SUSPECTED_CRIME_DESCRIPTION                                                           ROBBERY\n",
       "STOP_DURATION_MINUTES                                                                      12\n",
       "OFFICER_EXPLAINED_STOP_FLAG                                                                 Y\n",
       "OFFICER_NOT_EXPLAINED_STOP_DESCRIPTION                                                 (null)\n",
       "OTHER_PERSON_STOPPED_FLAG                                                                   Y\n",
       "SUSPECT_ARRESTED_FLAG                                                                       Y\n",
       "SUSPECT_ARREST_OFFENSE                                                                ROBBERY\n",
       "SUMMONS_ISSUED_FLAG                                                                         N\n",
       "SUMMONS_OFFENSE_DESCRIPTION                                                            (null)\n",
       "OFFICER_IN_UNIFORM_FLAG                                                                     N\n",
       "ID_CARD_IDENTIFIES_OFFICER_FLAG                                                        (null)\n",
       "SHIELD_IDENTIFIES_OFFICER_FLAG                                                              S\n",
       "VERBAL_IDENTIFIES_OFFICER_FLAG                                                              V\n",
       "                                                                            ...              \n",
       "SUSPECTS_ACTIONS_OTHER_FLAG                                                            (null)\n",
       "SUSPECTS_ACTIONS_PROXIMITY_TO_SCENE_FLAG                                               (null)\n",
       "SEARCH_BASIS_ADMISSION_FLAG                                                            (null)\n",
       "SEARCH_BASIS_CONSENT_FLAG                                                              (null)\n",
       "SEARCH_BASIS_HARD_OBJECT_FLAG                                                          (null)\n",
       "SEARCH_BASIS_INCIDENTAL_TO_ARREST_FLAG                                                      Y\n",
       "SEARCH_BASIS_OTHER_FLAG                                                                (null)\n",
       "SEARCH_BASIS_OUTLINE_FLAG                                                              (null)\n",
       "DEMEANOR_CODE                                                                              DE\n",
       "DEMEANOR_OF_PERSON_STOPPED                                                               CALM\n",
       "SUSPECT_REPORTED_AGE                                                                       10\n",
       "SUSPECT_SEX                                                                              MALE\n",
       "SUSPECT_RACE_DESCRIPTION                                                                    2\n",
       "SUSPECT_HEIGHT                                                                            4.1\n",
       "SUSPECT_WEIGHT                                                                             95\n",
       "SUSPECT_BODY_BUILD_TYPE                                                                   THN\n",
       "SUSPECT_EYE_COLOR                                                                         BRO\n",
       "SUSPECT_HAIR_COLOR                                                                        BRO\n",
       "SUSPECT_OTHER_DESCRIPTION                                                              (null)\n",
       "STOP_LOCATION_PRECINCT                                                                     78\n",
       "STOP_LOCATION_SECTOR_CODE                                                                   D\n",
       "STOP_LOCATION_APARTMENT                                                                (null)\n",
       "STOP_LOCATION_FULL_ADDRESS                                      WEST DRIVE && 15 STREET DRIVE\n",
       "STOP_LOCATION_PREMISES_NAME                                                            (null)\n",
       "STOP_LOCATION_STREET_NAME                                                          WEST DRIVE\n",
       "STOP_LOCATION_X                                                                        991330\n",
       "STOP_LOCATION_Y                                                                        187303\n",
       "STOP_LOCATION_ZIP_CODE                                                                 (null)\n",
       "STOP_LOCATION_PATROL_BORO_NAME                                                           PBBS\n",
       "STOP_LOCATION_BORO_NAME                                                              BROOKLYN\n",
       "Name: 758, Length: 83, dtype: object"
      ]
     },
     "execution_count": 12,
     "metadata": {},
     "output_type": "execute_result"
    }
   ],
   "source": [
    "#This statement - prints the row with of the minimum Reported Age \n",
    "\n",
    "StopAndFrisk.loc[StopAndFrisk['SUSPECT_REPORTED_AGE'].idxmin()]"
   ]
  },
  {
   "cell_type": "code",
   "execution_count": null,
   "metadata": {},
   "outputs": [],
   "source": []
  }
 ],
 "metadata": {
  "kernelspec": {
   "display_name": "Python 3",
   "language": "python",
   "name": "python3"
  },
  "language_info": {
   "codemirror_mode": {
    "name": "ipython",
    "version": 3
   },
   "file_extension": ".py",
   "mimetype": "text/x-python",
   "name": "python",
   "nbconvert_exporter": "python",
   "pygments_lexer": "ipython3",
   "version": "3.7.3"
  }
 },
 "nbformat": 4,
 "nbformat_minor": 2
}
