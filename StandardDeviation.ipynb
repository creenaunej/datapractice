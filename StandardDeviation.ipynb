{
 "cells": [
  {
   "cell_type": "code",
   "execution_count": 2,
   "metadata": {},
   "outputs": [
    {
     "name": "stdout",
     "output_type": "stream",
     "text": [
      "Mean: 14.0\n",
      "Standard Deviation: 5.259911279353167\n"
     ]
    }
   ],
   "source": [
    "import numpy as np\n",
    "import statistics as stat \n",
    "dataset=[17,15,23,7,9,13]\n",
    "print('Mean:', np.mean(dataset))\n",
    "print('Standard Deviation:', np.std(dataset))\n"
   ]
  },
  {
   "cell_type": "code",
   "execution_count": 3,
   "metadata": {},
   "outputs": [
    {
     "name": "stdout",
     "output_type": "stream",
     "text": [
      "Variance:  33.2\n"
     ]
    }
   ],
   "source": [
    "print('Variance: ', stat.variance(dataset))"
   ]
  },
  {
   "cell_type": "code",
   "execution_count": 8,
   "metadata": {},
   "outputs": [],
   "source": [
    "\n",
    "\n",
    "number= [85,100,92,96,87,94,75]\n"
   ]
  },
  {
   "cell_type": "code",
   "execution_count": 9,
   "metadata": {},
   "outputs": [
    {
     "name": "stdout",
     "output_type": "stream",
     "text": [
      "Standard Deviation: 7.698396334461417\n"
     ]
    }
   ],
   "source": [
    "#standard Deviation \n",
    "print('Standard Deviation:', np.std(number))"
   ]
  },
  {
   "cell_type": "code",
   "execution_count": 10,
   "metadata": {},
   "outputs": [
    {
     "name": "stdout",
     "output_type": "stream",
     "text": [
      "Variance:  69.14285714285714\n"
     ]
    }
   ],
   "source": [
    "#To find the variance,\n",
    "print('Variance: ', stat.variance(number))"
   ]
  },
  {
   "cell_type": "code",
   "execution_count": null,
   "metadata": {},
   "outputs": [],
   "source": []
  }
 ],
 "metadata": {
  "kernelspec": {
   "display_name": "Python 3",
   "language": "python",
   "name": "python3"
  },
  "language_info": {
   "codemirror_mode": {
    "name": "ipython",
    "version": 3
   },
   "file_extension": ".py",
   "mimetype": "text/x-python",
   "name": "python",
   "nbconvert_exporter": "python",
   "pygments_lexer": "ipython3",
   "version": "3.7.3"
  }
 },
 "nbformat": 4,
 "nbformat_minor": 2
}
